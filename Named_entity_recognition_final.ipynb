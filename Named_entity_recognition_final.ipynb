{
 "cells": [
  {
   "cell_type": "code",
   "execution_count": 1,
   "metadata": {
    "_cell_guid": "b1076dfc-b9ad-4769-8c92-a6c4dae69d19",
    "_uuid": "8f2839f25d086af736a60e9eeb907d3b93b6e0e5",
    "execution": {
     "iopub.execute_input": "2024-04-25T18:40:35.176633Z",
     "iopub.status.busy": "2024-04-25T18:40:35.176181Z",
     "iopub.status.idle": "2024-04-25T18:40:35.832865Z",
     "shell.execute_reply": "2024-04-25T18:40:35.831488Z",
     "shell.execute_reply.started": "2024-04-25T18:40:35.176597Z"
    }
   },
   "outputs": [
    {
     "name": "stdout",
     "output_type": "stream",
     "text": [
      "/kaggle/input/named-entity-recognition/Audio/orange/orange08.wav\n",
      "/kaggle/input/named-entity-recognition/Audio/orange/orange11.wav\n",
      "/kaggle/input/named-entity-recognition/Audio/orange/orange02.wav\n",
      "/kaggle/input/named-entity-recognition/Audio/orange/orange01.wav\n",
      "/kaggle/input/named-entity-recognition/Audio/orange/orange03.wav\n",
      "/kaggle/input/named-entity-recognition/Audio/orange/orange10.wav\n",
      "/kaggle/input/named-entity-recognition/Audio/orange/orange15.wav\n",
      "/kaggle/input/named-entity-recognition/Audio/orange/orange07.wav\n",
      "/kaggle/input/named-entity-recognition/Audio/orange/orange12.wav\n",
      "/kaggle/input/named-entity-recognition/Audio/orange/orange13.wav\n",
      "/kaggle/input/named-entity-recognition/Audio/orange/orange04.wav\n",
      "/kaggle/input/named-entity-recognition/Audio/orange/orange14.wav\n",
      "/kaggle/input/named-entity-recognition/Audio/orange/orange06.wav\n",
      "/kaggle/input/named-entity-recognition/Audio/orange/orange09.wav\n",
      "/kaggle/input/named-entity-recognition/Audio/orange/orange05.wav\n",
      "/kaggle/input/named-entity-recognition/Audio/book/book6.wav\n",
      "/kaggle/input/named-entity-recognition/Audio/book/book0.wav\n",
      "/kaggle/input/named-entity-recognition/Audio/book/book8.wav\n",
      "/kaggle/input/named-entity-recognition/Audio/book/book2.wav\n",
      "/kaggle/input/named-entity-recognition/Audio/book/book10.wav\n",
      "/kaggle/input/named-entity-recognition/Audio/book/book13.wav\n",
      "/kaggle/input/named-entity-recognition/Audio/book/book14.wav\n",
      "/kaggle/input/named-entity-recognition/Audio/book/book11.wav\n",
      "/kaggle/input/named-entity-recognition/Audio/book/book4.wav\n",
      "/kaggle/input/named-entity-recognition/Audio/book/book5.wav\n",
      "/kaggle/input/named-entity-recognition/Audio/book/book1.wav\n",
      "/kaggle/input/named-entity-recognition/Audio/book/book9.wav\n",
      "/kaggle/input/named-entity-recognition/Audio/book/book12.wav\n",
      "/kaggle/input/named-entity-recognition/Audio/book/book3.wav\n",
      "/kaggle/input/named-entity-recognition/Audio/book/book7.wav\n",
      "/kaggle/input/named-entity-recognition/Audio/lime/lime02.wav\n",
      "/kaggle/input/named-entity-recognition/Audio/lime/lime04.wav\n",
      "/kaggle/input/named-entity-recognition/Audio/lime/lime05.wav\n",
      "/kaggle/input/named-entity-recognition/Audio/lime/lime10.wav\n",
      "/kaggle/input/named-entity-recognition/Audio/lime/lime09.wav\n",
      "/kaggle/input/named-entity-recognition/Audio/lime/lime13.wav\n",
      "/kaggle/input/named-entity-recognition/Audio/lime/lime06.wav\n",
      "/kaggle/input/named-entity-recognition/Audio/lime/lime11.wav\n",
      "/kaggle/input/named-entity-recognition/Audio/lime/lime15.wav\n",
      "/kaggle/input/named-entity-recognition/Audio/lime/lime12.wav\n",
      "/kaggle/input/named-entity-recognition/Audio/lime/lime08.wav\n",
      "/kaggle/input/named-entity-recognition/Audio/lime/lime14.wav\n",
      "/kaggle/input/named-entity-recognition/Audio/lime/lime03.wav\n",
      "/kaggle/input/named-entity-recognition/Audio/lime/lime07.wav\n",
      "/kaggle/input/named-entity-recognition/Audio/lime/lime01.wav\n",
      "/kaggle/input/named-entity-recognition/Audio/pineapple/pineapple05.wav\n",
      "/kaggle/input/named-entity-recognition/Audio/pineapple/pineapple10.wav\n",
      "/kaggle/input/named-entity-recognition/Audio/pineapple/pineapple02.wav\n",
      "/kaggle/input/named-entity-recognition/Audio/pineapple/pineapple13.wav\n",
      "/kaggle/input/named-entity-recognition/Audio/pineapple/pineapple04.wav\n",
      "/kaggle/input/named-entity-recognition/Audio/pineapple/pineapple11.wav\n",
      "/kaggle/input/named-entity-recognition/Audio/pineapple/pineapple14.wav\n",
      "/kaggle/input/named-entity-recognition/Audio/pineapple/pineapple09.wav\n",
      "/kaggle/input/named-entity-recognition/Audio/pineapple/pineapple12.wav\n",
      "/kaggle/input/named-entity-recognition/Audio/pineapple/pineapple15.wav\n",
      "/kaggle/input/named-entity-recognition/Audio/pineapple/pineapple06.wav\n",
      "/kaggle/input/named-entity-recognition/Audio/pineapple/pineapple01.wav\n",
      "/kaggle/input/named-entity-recognition/Audio/pineapple/pineapple03.wav\n",
      "/kaggle/input/named-entity-recognition/Audio/pineapple/pineapple07.wav\n",
      "/kaggle/input/named-entity-recognition/Audio/pineapple/pineapple08.wav\n",
      "/kaggle/input/named-entity-recognition/Audio/eye/eye8\n",
      "/kaggle/input/named-entity-recognition/Audio/eye/eye14\n",
      "/kaggle/input/named-entity-recognition/Audio/eye/eye11\n",
      "/kaggle/input/named-entity-recognition/Audio/eye/eye12\n",
      "/kaggle/input/named-entity-recognition/Audio/eye/eye3\n",
      "/kaggle/input/named-entity-recognition/Audio/eye/eye5\n",
      "/kaggle/input/named-entity-recognition/Audio/eye/eye9\n",
      "/kaggle/input/named-entity-recognition/Audio/eye/eye4\n",
      "/kaggle/input/named-entity-recognition/Audio/eye/eye10\n",
      "/kaggle/input/named-entity-recognition/Audio/eye/eye13\n",
      "/kaggle/input/named-entity-recognition/Audio/eye/eye1\n",
      "/kaggle/input/named-entity-recognition/Audio/eye/eye0\n",
      "/kaggle/input/named-entity-recognition/Audio/eye/eye7\n",
      "/kaggle/input/named-entity-recognition/Audio/eye/eye2\n",
      "/kaggle/input/named-entity-recognition/Audio/eye/eye6\n",
      "/kaggle/input/named-entity-recognition/Audio/apple/apple12.wav\n",
      "/kaggle/input/named-entity-recognition/Audio/apple/apple12\n",
      "/kaggle/input/named-entity-recognition/Audio/apple/apple4\n",
      "/kaggle/input/named-entity-recognition/Audio/apple/apple06.wav\n",
      "/kaggle/input/named-entity-recognition/Audio/apple/apple05.wav\n",
      "/kaggle/input/named-entity-recognition/Audio/apple/apple02.wav\n",
      "/kaggle/input/named-entity-recognition/Audio/apple/apple11.wav\n",
      "/kaggle/input/named-entity-recognition/Audio/apple/apple8\n",
      "/kaggle/input/named-entity-recognition/Audio/apple/apple07.wav\n",
      "/kaggle/input/named-entity-recognition/Audio/apple/apple7\n",
      "/kaggle/input/named-entity-recognition/Audio/apple/apple14.wav\n",
      "/kaggle/input/named-entity-recognition/Audio/apple/apple10\n",
      "/kaggle/input/named-entity-recognition/Audio/apple/apple10.wav\n",
      "/kaggle/input/named-entity-recognition/Audio/apple/apple14\n",
      "/kaggle/input/named-entity-recognition/Audio/apple/apple01.wav\n",
      "/kaggle/input/named-entity-recognition/Audio/apple/apple2\n",
      "/kaggle/input/named-entity-recognition/Audio/apple/apple08.wav\n",
      "/kaggle/input/named-entity-recognition/Audio/apple/apple0\n",
      "/kaggle/input/named-entity-recognition/Audio/apple/apple11\n",
      "/kaggle/input/named-entity-recognition/Audio/apple/apple9\n",
      "/kaggle/input/named-entity-recognition/Audio/apple/apple1\n",
      "/kaggle/input/named-entity-recognition/Audio/apple/apple5\n",
      "/kaggle/input/named-entity-recognition/Audio/apple/apple09.wav\n",
      "/kaggle/input/named-entity-recognition/Audio/apple/apple13.wav\n",
      "/kaggle/input/named-entity-recognition/Audio/apple/apple13\n",
      "/kaggle/input/named-entity-recognition/Audio/apple/apple6\n",
      "/kaggle/input/named-entity-recognition/Audio/apple/apple04.wav\n",
      "/kaggle/input/named-entity-recognition/Audio/apple/apple03.wav\n",
      "/kaggle/input/named-entity-recognition/Audio/apple/apple15.wav\n",
      "/kaggle/input/named-entity-recognition/Audio/apple/apple3\n",
      "/kaggle/input/named-entity-recognition/Audio/dog/dog5\n",
      "/kaggle/input/named-entity-recognition/Audio/dog/dog8\n",
      "/kaggle/input/named-entity-recognition/Audio/dog/dog3\n",
      "/kaggle/input/named-entity-recognition/Audio/dog/dog11\n",
      "/kaggle/input/named-entity-recognition/Audio/dog/dog9\n",
      "/kaggle/input/named-entity-recognition/Audio/dog/dog7\n",
      "/kaggle/input/named-entity-recognition/Audio/dog/dog6\n",
      "/kaggle/input/named-entity-recognition/Audio/dog/dog0\n",
      "/kaggle/input/named-entity-recognition/Audio/dog/dog10\n",
      "/kaggle/input/named-entity-recognition/Audio/dog/dog1\n",
      "/kaggle/input/named-entity-recognition/Audio/dog/dog14\n",
      "/kaggle/input/named-entity-recognition/Audio/dog/dog12\n",
      "/kaggle/input/named-entity-recognition/Audio/dog/dog4\n",
      "/kaggle/input/named-entity-recognition/Audio/dog/dog2\n",
      "/kaggle/input/named-entity-recognition/Audio/dog/dog13\n",
      "/kaggle/input/named-entity-recognition/Audio/kiwi/kiwi14.wav\n",
      "/kaggle/input/named-entity-recognition/Audio/kiwi/kiwi06.wav\n",
      "/kaggle/input/named-entity-recognition/Audio/kiwi/kiwi07.wav\n",
      "/kaggle/input/named-entity-recognition/Audio/kiwi/kiwi01.wav\n",
      "/kaggle/input/named-entity-recognition/Audio/kiwi/kiwi04.wav\n",
      "/kaggle/input/named-entity-recognition/Audio/kiwi/kiwi10.wav\n",
      "/kaggle/input/named-entity-recognition/Audio/kiwi/kiwi02.wav\n",
      "/kaggle/input/named-entity-recognition/Audio/kiwi/kiwi11.wav\n",
      "/kaggle/input/named-entity-recognition/Audio/kiwi/kiwi15.wav\n",
      "/kaggle/input/named-entity-recognition/Audio/kiwi/kiwi08.wav\n",
      "/kaggle/input/named-entity-recognition/Audio/kiwi/kiwi03.wav\n",
      "/kaggle/input/named-entity-recognition/Audio/kiwi/kiwi12.wav\n",
      "/kaggle/input/named-entity-recognition/Audio/kiwi/kiwi05.wav\n",
      "/kaggle/input/named-entity-recognition/Audio/kiwi/kiwi13.wav\n",
      "/kaggle/input/named-entity-recognition/Audio/kiwi/kiwi09.wav\n",
      "/kaggle/input/named-entity-recognition/Audio/fast/fast14\n",
      "/kaggle/input/named-entity-recognition/Audio/fast/fast5\n",
      "/kaggle/input/named-entity-recognition/Audio/fast/fast10\n",
      "/kaggle/input/named-entity-recognition/Audio/fast/fast3\n",
      "/kaggle/input/named-entity-recognition/Audio/fast/fast1\n",
      "/kaggle/input/named-entity-recognition/Audio/fast/fast11\n",
      "/kaggle/input/named-entity-recognition/Audio/fast/fast2\n",
      "/kaggle/input/named-entity-recognition/Audio/fast/fast6\n",
      "/kaggle/input/named-entity-recognition/Audio/fast/fast8\n",
      "/kaggle/input/named-entity-recognition/Audio/fast/fast7\n",
      "/kaggle/input/named-entity-recognition/Audio/fast/fast12\n",
      "/kaggle/input/named-entity-recognition/Audio/fast/fast9\n",
      "/kaggle/input/named-entity-recognition/Audio/fast/fast0\n",
      "/kaggle/input/named-entity-recognition/Audio/fast/fast13\n",
      "/kaggle/input/named-entity-recognition/Audio/fast/fast4\n",
      "/kaggle/input/named-entity-recognition/Audio/cat/cat4\n",
      "/kaggle/input/named-entity-recognition/Audio/cat/cat7\n",
      "/kaggle/input/named-entity-recognition/Audio/cat/cat11\n",
      "/kaggle/input/named-entity-recognition/Audio/cat/cat10\n",
      "/kaggle/input/named-entity-recognition/Audio/cat/cat9\n",
      "/kaggle/input/named-entity-recognition/Audio/cat/cat6\n",
      "/kaggle/input/named-entity-recognition/Audio/cat/cat14\n",
      "/kaggle/input/named-entity-recognition/Audio/cat/cat12\n",
      "/kaggle/input/named-entity-recognition/Audio/cat/cat5\n",
      "/kaggle/input/named-entity-recognition/Audio/cat/cat2\n",
      "/kaggle/input/named-entity-recognition/Audio/cat/cat8\n",
      "/kaggle/input/named-entity-recognition/Audio/cat/cat1\n",
      "/kaggle/input/named-entity-recognition/Audio/cat/cat0\n",
      "/kaggle/input/named-entity-recognition/Audio/cat/cat3\n",
      "/kaggle/input/named-entity-recognition/Audio/cat/cat13\n",
      "/kaggle/input/named-entity-recognition/Audio/peach/peach14.wav\n",
      "/kaggle/input/named-entity-recognition/Audio/peach/peach10.wav\n",
      "/kaggle/input/named-entity-recognition/Audio/peach/peach07.wav\n",
      "/kaggle/input/named-entity-recognition/Audio/peach/peach12.wav\n",
      "/kaggle/input/named-entity-recognition/Audio/peach/peach02.wav\n",
      "/kaggle/input/named-entity-recognition/Audio/peach/peach04.wav\n",
      "/kaggle/input/named-entity-recognition/Audio/peach/peach06.wav\n",
      "/kaggle/input/named-entity-recognition/Audio/peach/peach05.wav\n",
      "/kaggle/input/named-entity-recognition/Audio/peach/peach08.wav\n",
      "/kaggle/input/named-entity-recognition/Audio/peach/peach13.wav\n",
      "/kaggle/input/named-entity-recognition/Audio/peach/peach09.wav\n",
      "/kaggle/input/named-entity-recognition/Audio/peach/peach03.wav\n",
      "/kaggle/input/named-entity-recognition/Audio/peach/peach11.wav\n",
      "/kaggle/input/named-entity-recognition/Audio/peach/peach01.wav\n",
      "/kaggle/input/named-entity-recognition/Audio/peach/peach15.wav\n",
      "/kaggle/input/named-entity-recognition/Audio/banana/banana01.wav\n",
      "/kaggle/input/named-entity-recognition/Audio/banana/banana14.wav\n",
      "/kaggle/input/named-entity-recognition/Audio/banana/banana05.wav\n",
      "/kaggle/input/named-entity-recognition/Audio/banana/banana09.wav\n",
      "/kaggle/input/named-entity-recognition/Audio/banana/banana04.wav\n",
      "/kaggle/input/named-entity-recognition/Audio/banana/banana10.wav\n",
      "/kaggle/input/named-entity-recognition/Audio/banana/banana03.wav\n",
      "/kaggle/input/named-entity-recognition/Audio/banana/banana02.wav\n",
      "/kaggle/input/named-entity-recognition/Audio/banana/banana08.wav\n",
      "/kaggle/input/named-entity-recognition/Audio/banana/banana15.wav\n",
      "/kaggle/input/named-entity-recognition/Audio/banana/banana13.wav\n",
      "/kaggle/input/named-entity-recognition/Audio/banana/banana12.wav\n",
      "/kaggle/input/named-entity-recognition/Audio/banana/banana11.wav\n",
      "/kaggle/input/named-entity-recognition/Audio/banana/banana07.wav\n",
      "/kaggle/input/named-entity-recognition/Audio/banana/banana06.wav\n",
      "/kaggle/input/named-entity-recognition/Audio/god/god3.wav\n",
      "/kaggle/input/named-entity-recognition/Audio/god/god2.wav\n",
      "/kaggle/input/named-entity-recognition/Audio/god/god12.wav\n",
      "/kaggle/input/named-entity-recognition/Audio/god/god14.wav\n",
      "/kaggle/input/named-entity-recognition/Audio/god/god4.wav\n",
      "/kaggle/input/named-entity-recognition/Audio/god/god6.wav\n",
      "/kaggle/input/named-entity-recognition/Audio/god/god5.wav\n",
      "/kaggle/input/named-entity-recognition/Audio/god/god0.wav\n",
      "/kaggle/input/named-entity-recognition/Audio/god/god13.wav\n",
      "/kaggle/input/named-entity-recognition/Audio/god/god11.wav\n",
      "/kaggle/input/named-entity-recognition/Audio/god/god7.wav\n",
      "/kaggle/input/named-entity-recognition/Audio/god/god8.wav\n",
      "/kaggle/input/named-entity-recognition/Audio/god/god1.wav\n",
      "/kaggle/input/named-entity-recognition/Audio/god/god10.wav\n",
      "/kaggle/input/named-entity-recognition/Audio/god/god9.wav\n",
      "/kaggle/input/named-entity-recognition/Audio/human/human9\n",
      "/kaggle/input/named-entity-recognition/Audio/human/human14\n",
      "/kaggle/input/named-entity-recognition/Audio/human/human1\n",
      "/kaggle/input/named-entity-recognition/Audio/human/human3\n",
      "/kaggle/input/named-entity-recognition/Audio/human/human0.wav\n",
      "/kaggle/input/named-entity-recognition/Audio/human/human7\n",
      "/kaggle/input/named-entity-recognition/Audio/human/human2\n",
      "/kaggle/input/named-entity-recognition/Audio/human/human6\n",
      "/kaggle/input/named-entity-recognition/Audio/human/human12\n",
      "/kaggle/input/named-entity-recognition/Audio/human/human11\n",
      "/kaggle/input/named-entity-recognition/Audio/human/human8\n",
      "/kaggle/input/named-entity-recognition/Audio/human/human10\n",
      "/kaggle/input/named-entity-recognition/Audio/human/human4\n",
      "/kaggle/input/named-entity-recognition/Audio/human/human13\n",
      "/kaggle/input/named-entity-recognition/Audio/human/human5\n"
     ]
    }
   ],
   "source": [
    "# This Python 3 environment comes with many helpful analytics libraries installed\n",
    "# It is defined by the kaggle/python Docker image: https://github.com/kaggle/docker-python\n",
    "# For example, here's several helpful packages to load\n",
    "\n",
    "import numpy as np # linear algebra\n",
    "import pandas as pd # data processing, CSV file I/O (e.g. pd.read_csv)\n",
    "\n",
    "# Input data files are available in the read-only \"../input/\" directory\n",
    "# For example, running this (by clicking run or pressing Shift+Enter) will list all files under the input directory\n",
    "\n",
    "import os\n",
    "for dirname, _, filenames in os.walk('/kaggle/input'):\n",
    "    for filename in filenames:\n",
    "        print(os.path.join(dirname, filename))\n",
    "\n",
    "# You can write up to 20GB to the current directory (/kaggle/working/) that gets preserved as output when you create a version using \"Save & Run All\" \n",
    "# You can also write temporary files to /kaggle/temp/, but they won't be saved outside of the current session"
   ]
  },
  {
   "cell_type": "code",
   "execution_count": 2,
   "metadata": {
    "execution": {
     "iopub.execute_input": "2024-04-25T18:40:35.835995Z",
     "iopub.status.busy": "2024-04-25T18:40:35.835143Z",
     "iopub.status.idle": "2024-04-25T18:40:35.844549Z",
     "shell.execute_reply": "2024-04-25T18:40:35.842501Z",
     "shell.execute_reply.started": "2024-04-25T18:40:35.835951Z"
    }
   },
   "outputs": [],
   "source": [
    "import os\n",
    "from matplotlib import pyplot as plt\n",
    "%matplotlib inline"
   ]
  },
  {
   "cell_type": "code",
   "execution_count": 3,
   "metadata": {
    "execution": {
     "iopub.execute_input": "2024-04-25T18:40:35.846588Z",
     "iopub.status.busy": "2024-04-25T18:40:35.846209Z",
     "iopub.status.idle": "2024-04-25T18:40:35.873812Z",
     "shell.execute_reply": "2024-04-25T18:40:35.872471Z",
     "shell.execute_reply.started": "2024-04-25T18:40:35.846555Z"
    }
   },
   "outputs": [
    {
     "name": "stdout",
     "output_type": "stream",
     "text": [
      "Words spoken: ['orange', 'book', 'lime', 'pineapple', 'eye', 'apple', 'dog', 'kiwi', 'fast', 'cat', 'peach', 'banana', 'god', 'human']\n"
     ]
    }
   ],
   "source": [
    "fpaths = [] ##Stores file paths\n",
    "labels = [] #Stores categories corresponding to each target  \n",
    "spoken = [] #Set of target words\n",
    "\n",
    "audio_path = \"/kaggle/input/named-entity-recognition/Audio\"\n",
    "\n",
    "for f in os.listdir(audio_path):\n",
    "    for w in os.listdir(audio_path + '/' + f):\n",
    "        fpaths.append(audio_path + '/'+ f + '/' + w)\n",
    "        labels.append(f)\n",
    "        if f not in spoken:\n",
    "            spoken.append(f)\n",
    "print('Words spoken:', spoken)"
   ]
  },
  {
   "cell_type": "code",
   "execution_count": 4,
   "metadata": {
    "execution": {
     "iopub.execute_input": "2024-04-25T18:40:35.877078Z",
     "iopub.status.busy": "2024-04-25T18:40:35.876372Z",
     "iopub.status.idle": "2024-04-25T18:40:36.711329Z",
     "shell.execute_reply": "2024-04-25T18:40:36.710111Z",
     "shell.execute_reply.started": "2024-04-25T18:40:35.877018Z"
    }
   },
   "outputs": [
    {
     "name": "stdout",
     "output_type": "stream",
     "text": [
      "Labels and label indices [10. 10. 10. 10. 10. 10. 10. 10. 10. 10. 10. 10. 10. 10. 10.  8.  8.  8.\n",
      "  8.  8.  8.  8.  8.  8.  8.  8.  8.  8.  8.  8.  2.  2.  2.  2.  2.  2.\n",
      "  2.  2.  2.  2.  2.  2.  2.  2.  2.  1.  1.  1.  1.  1.  1.  1.  1.  1.\n",
      "  1.  1.  1.  1.  1.  1. 11. 11. 11. 11. 11. 11. 11. 11. 11. 11. 11. 11.\n",
      " 11. 11. 11. 12. 12. 12. 12. 12. 12. 12. 12. 12. 12. 12. 12. 12. 12. 12.\n",
      " 12. 12. 12. 12. 12. 12. 12. 12. 12. 12. 12. 12. 12. 12. 12.  3.  3.  3.\n",
      "  3.  3.  3.  3.  3.  3.  3.  3.  3.  3.  3.  3.  5.  5.  5.  5.  5.  5.\n",
      "  5.  5.  5.  5.  5.  5.  5.  5.  5.  0.  0.  0.  0.  0.  0.  0.  0.  0.\n",
      "  0.  0.  0.  0.  0.  0. 13. 13. 13. 13. 13. 13. 13. 13. 13. 13. 13. 13.\n",
      " 13. 13. 13.  4.  4.  4.  4.  4.  4.  4.  4.  4.  4.  4.  4.  4.  4.  4.\n",
      "  9.  9.  9.  9.  9.  9.  9.  9.  9.  9.  9.  9.  9.  9.  9.  7.  7.  7.\n",
      "  7.  7.  7.  7.  7.  7.  7.  7.  7.  7.  7.  7.  6.  6.  6.  6.  6.  6.\n",
      "  6.  6.  6.  6.  6.  6.  6.  6.  6.]\n"
     ]
    }
   ],
   "source": [
    "from scipy.io import wavfile\n",
    "\n",
    "data = np.zeros((len(fpaths), 32000))\n",
    "maxsize = -1\n",
    "for n,file in enumerate(fpaths):\n",
    "    _,d = wavfile.read(file)  ##Reads .wav file\n",
    "    #print d.shape \n",
    "    data[n, :d.shape[0]] = d\n",
    "    if d.shape[0] > maxsize:\n",
    "        maxsize = d.shape[0]\n",
    "data = data[:, :maxsize]  ##Changing of dimensions\n",
    "\n",
    "#print(\"Number of files total:\", data.shape[0])\n",
    "all_labels = np.zeros(data.shape[0])\n",
    "for n, l in enumerate(set(labels)):\n",
    "    all_labels[np.array([i for i, _ in enumerate(labels) if _ == l])] = n\n",
    "print('Labels and label indices', all_labels)"
   ]
  },
  {
   "cell_type": "code",
   "execution_count": 5,
   "metadata": {
    "execution": {
     "iopub.execute_input": "2024-04-25T18:40:36.715636Z",
     "iopub.status.busy": "2024-04-25T18:40:36.715298Z",
     "iopub.status.idle": "2024-04-25T18:40:36.721790Z",
     "shell.execute_reply": "2024-04-25T18:40:36.720774Z",
     "shell.execute_reply.started": "2024-04-25T18:40:36.715609Z"
    }
   },
   "outputs": [],
   "source": [
    "import scipy\n",
    "def stft(x, fftsize = 64, overlap_pct=0.5):##Computes STFT(short time Fourier Transform)\n",
    "    hop = int(fftsize * (1-overlap_pct))\n",
    "    w = scipy.hanning(fftsize + 1)[:-1]\n",
    "    raw = np.array([np.fft.rfft(w * x[i:i+fftsize]) for i in range(0, len(x) - fftsize, hop)])\n",
    "    return raw[:,:(fftsize // 2)]"
   ]
  },
  {
   "cell_type": "code",
   "execution_count": 6,
   "metadata": {
    "execution": {
     "iopub.execute_input": "2024-04-25T18:40:36.723990Z",
     "iopub.status.busy": "2024-04-25T18:40:36.722885Z",
     "iopub.status.idle": "2024-04-25T18:40:37.443241Z",
     "shell.execute_reply": "2024-04-25T18:40:37.442104Z",
     "shell.execute_reply.started": "2024-04-25T18:40:36.723954Z"
    }
   },
   "outputs": [
    {
     "name": "stdout",
     "output_type": "stream",
     "text": [
      "(216, 32)\n"
     ]
    },
    {
     "name": "stderr",
     "output_type": "stream",
     "text": [
      "/tmp/ipykernel_33/4126547528.py:4: DeprecationWarning: scipy.hanning is deprecated and will be removed in SciPy 2.0.0, use numpy.hanning instead\n",
      "  w = scipy.hanning(fftsize + 1)[:-1]\n"
     ]
    },
    {
     "data": {
      "text/plain": [
       "Text(0.5, 1.0, 'PSD of orange example')"
      ]
     },
     "execution_count": 6,
     "metadata": {},
     "output_type": "execute_result"
    },
    {
     "data": {
      "image/png": "[encoded data removed]",
      "text/plain": [
       "<Figure size 640x480 with 1 Axes>"
      ]
     },
     "metadata": {},
     "output_type": "display_data"
    },
    {
     "data": {
      "image/png": "[encoded data removed]",
      "text/plain": [
       "<Figure size 640x480 with 1 Axes>"
      ]
     },
     "metadata": {},
     "output_type": "display_data"
    }
   ],
   "source": [
    "plt.plot(data[0, :], color='steelblue')  #Plots the signal in time domain\n",
    "plt.title('Amplitude vs Time %s'%labels[0])\n",
    "plt.xlim(0, 3500)\n",
    "plt.xlabel('Time (samples)')\n",
    "plt.ylabel('Amplitude (signed 16 bit)')\n",
    "plt.figure()\n",
    "\n",
    "# + 1 to avoid log of 0\n",
    "log_freq = 20 * np.log(np.abs(stft(data[0, :])) + 1) ##Plots power spectral density in freq domain\n",
    "print(log_freq.shape)\n",
    "plt.imshow(log_freq, cmap='gray', interpolation=None)\n",
    "plt.xlabel('Freq (bin)')\n",
    "plt.ylabel('Time (overlapped frames)')\n",
    "plt.ylim(log_freq.shape[1])\n",
    "plt.title('PSD of %s example'%labels[0])"
   ]
  },
  {
   "cell_type": "code",
   "execution_count": 7,
   "metadata": {
    "execution": {
     "iopub.execute_input": "2024-04-25T18:40:37.445532Z",
     "iopub.status.busy": "2024-04-25T18:40:37.444559Z",
     "iopub.status.idle": "2024-04-25T18:40:37.453717Z",
     "shell.execute_reply": "2024-04-25T18:40:37.452870Z",
     "shell.execute_reply.started": "2024-04-25T18:40:37.445500Z"
    }
   },
   "outputs": [],
   "source": [
    "from numpy.lib.stride_tricks import as_strided\n",
    "\n",
    "def peakfind(x, n_peaks, l_size=3, r_size=3, c_size=3, f=np.mean):  ##Gives location of peaks in time domain\n",
    "    win_size = l_size + r_size + c_size\n",
    "    shape = x.shape[:-1] + (x.shape[-1]-win_size+1, win_size)\n",
    "    strides = x.strides + (x.strides[-1],)\n",
    "    xs = as_strided(x, shape=shape, strides=strides)\n",
    "    def is_peak(x):\n",
    "        centered = (np.argmax(x) == l_size + int(c_size/2))\n",
    "        l = x[:l_size]\n",
    "        c = x[l_size:l_size + c_size]\n",
    "        r = x[-r_size:]\n",
    "        passes = np.max(c) > np.max([f(l), f(r)])\n",
    "        if centered and passes:\n",
    "            return np.max(c)\n",
    "        else:\n",
    "            return -1\n",
    "    r = np.apply_along_axis(is_peak, 1, xs)\n",
    "    top = np.argsort(r, None)[::-1]\n",
    "    heights = r[top[:n_peaks]]\n",
    "    #Add l_size and half - 1 of center size to get to actual peak location\n",
    "    top[top > -1] = top[top > -1] + l_size + int(c_size / 2.)\n",
    "    return heights, top[:n_peaks]"
   ]
  },
  {
   "cell_type": "code",
   "execution_count": 8,
   "metadata": {
    "execution": {
     "iopub.execute_input": "2024-04-25T18:40:37.456023Z",
     "iopub.status.busy": "2024-04-25T18:40:37.455114Z",
     "iopub.status.idle": "2024-04-25T18:40:37.775070Z",
     "shell.execute_reply": "2024-04-25T18:40:37.774148Z",
     "shell.execute_reply.started": "2024-04-25T18:40:37.455992Z"
    }
   },
   "outputs": [
    {
     "name": "stderr",
     "output_type": "stream",
     "text": [
      "/tmp/ipykernel_33/4126547528.py:4: DeprecationWarning: scipy.hanning is deprecated and will be removed in SciPy 2.0.0, use numpy.hanning instead\n",
      "  w = scipy.hanning(fftsize + 1)[:-1]\n"
     ]
    },
    {
     "data": {
      "text/plain": [
       "Text(0, 0.5, 'Amplitude')"
      ]
     },
     "execution_count": 8,
     "metadata": {},
     "output_type": "execute_result"
    },
    {
     "data": {
      "image/png": "[encoded data removed]",
      "text/plain": [
       "<Figure size 640x480 with 1 Axes>"
      ]
     },
     "metadata": {},
     "output_type": "display_data"
    }
   ],
   "source": [
    "plot_data = np.abs(stft(data[20, :]))[15, :] \n",
    "values, locs = peakfind(plot_data, n_peaks=8)\n",
    "fp = locs[values > -1]\n",
    "fv = values[values > -1]\n",
    "plt.plot(plot_data, color='steelblue')\n",
    "plt.plot(fp, fv, 'x', color='darkred')\n",
    "plt.title('Peak location example')\n",
    "plt.xlabel('Frequency (bins)')\n",
    "plt.ylabel('Amplitude')"
   ]
  },
  {
   "cell_type": "code",
   "execution_count": 9,
   "metadata": {
    "execution": {
     "iopub.execute_input": "2024-04-25T18:40:37.777214Z",
     "iopub.status.busy": "2024-04-25T18:40:37.776559Z",
     "iopub.status.idle": "2024-04-25T18:41:20.927393Z",
     "shell.execute_reply": "2024-04-25T18:41:20.926269Z",
     "shell.execute_reply.started": "2024-04-25T18:40:37.777180Z"
    }
   },
   "outputs": [
    {
     "name": "stderr",
     "output_type": "stream",
     "text": [
      "/tmp/ipykernel_33/4126547528.py:4: DeprecationWarning: scipy.hanning is deprecated and will be removed in SciPy 2.0.0, use numpy.hanning instead\n",
      "  w = scipy.hanning(fftsize + 1)[:-1]\n"
     ]
    },
    {
     "name": "stdout",
     "output_type": "stream",
     "text": [
      "Processed obs 0\n",
      "Processed obs 10\n",
      "Processed obs 20\n",
      "Processed obs 30\n",
      "Processed obs 40\n",
      "Processed obs 50\n",
      "Processed obs 60\n",
      "Processed obs 70\n",
      "Processed obs 80\n",
      "Processed obs 90\n",
      "Processed obs 100\n",
      "Processed obs 110\n",
      "Processed obs 120\n",
      "Processed obs 130\n",
      "Processed obs 140\n",
      "Processed obs 150\n",
      "Processed obs 160\n",
      "Processed obs 170\n",
      "Processed obs 180\n",
      "Processed obs 190\n",
      "Processed obs 200\n",
      "Processed obs 210\n",
      "Processed obs 220\n"
     ]
    }
   ],
   "source": [
    "all_obs = []  ##processes each example(calculates STFT and find peaks) feature to the model\n",
    "for i in range(data.shape[0]):\n",
    "    d = np.abs(stft(data[i, :]))\n",
    "    n_dim = 6\n",
    "    obs = np.zeros((n_dim, d.shape[0]))\n",
    "    for r in range(d.shape[0]):\n",
    "        _,t = peakfind(d[r,:], n_peaks=n_dim)\n",
    "        obs[:,r]=t.copy()\n",
    "    if i%10==0:\n",
    "        print(\"Processed obs %s\" % i)\n",
    "    all_obs.append(obs)\n",
    "\n",
    "all_obs = np.atleast_3d(all_obs)"
   ]
  },
  {
   "cell_type": "code",
   "execution_count": 10,
   "metadata": {
    "execution": {
     "iopub.execute_input": "2024-04-25T18:41:20.931998Z",
     "iopub.status.busy": "2024-04-25T18:41:20.931626Z",
     "iopub.status.idle": "2024-04-25T18:41:20.937358Z",
     "shell.execute_reply": "2024-04-25T18:41:20.936125Z",
     "shell.execute_reply.started": "2024-04-25T18:41:20.931968Z"
    }
   },
   "outputs": [
    {
     "name": "stdout",
     "output_type": "stream",
     "text": [
      "(225, 6, 216)\n",
      "(225, 6966)\n"
     ]
    }
   ],
   "source": [
    "print(all_obs.shape)\n",
    "print(data.shape)"
   ]
  },
  {
   "cell_type": "code",
   "execution_count": 11,
   "metadata": {
    "execution": {
     "iopub.execute_input": "2024-04-25T18:41:20.939661Z",
     "iopub.status.busy": "2024-04-25T18:41:20.939221Z",
     "iopub.status.idle": "2024-04-25T18:41:21.438401Z",
     "shell.execute_reply": "2024-04-25T18:41:21.437300Z",
     "shell.execute_reply.started": "2024-04-25T18:41:20.939621Z"
    }
   },
   "outputs": [
    {
     "name": "stdout",
     "output_type": "stream",
     "text": [
      "Likelihoods for test set 1\n",
      "M1: 221.3941427176605\n",
      "M2: 165.68854588913212\n",
      "Prediction for test set 1\n",
      "Model 1\n",
      "\n",
      "Likelihoods for test set 2\n",
      "M1: 33.20045732115577\n",
      "M2: 60.30510397138956\n",
      "Prediction for test set 2\n",
      "Model 2\n"
     ]
    }
   ],
   "source": [
    "import scipy.stats as st\n",
    "from scipy.stats import multivariate_normal\n",
    "import numpy as np\n",
    "\n",
    "class gmmhmm:  ##Creation of a Gaussian HMM\n",
    "    def __init__(self, n_states):\n",
    "        self.n_states = n_states\n",
    "        self.random_state = np.random.RandomState(0)\n",
    "        \n",
    "        self.prior = self._normalize(self.random_state.rand(self.n_states, 1))\n",
    "        self.A = self._stochasticize(self.random_state.rand(self.n_states, self.n_states))\n",
    "        \n",
    "        self.mu = None\n",
    "        self.covs = None\n",
    "        self.n_dims = None\n",
    "    \n",
    "    def _forward(self, B):\n",
    "        log_likelihood = 0\n",
    "        T = B.shape[1]\n",
    "        alpha = np.zeros(B.shape)\n",
    "        for t in range(T):\n",
    "            if t == 0:\n",
    "                alpha[:,t] = B[:,t] * self.prior.ravel()\n",
    "            else:\n",
    "                alpha[:,t] = B[:,t] * np.dot(self.A.T, alpha[:,t-1])\n",
    "            \n",
    "            alpha_sum = np.sum(alpha[:,t])\n",
    "            alpha[:,t]/=alpha_sum\n",
    "            log_likelihood = log_likelihood + np.log(alpha_sum)\n",
    "        return log_likelihood, alpha\n",
    "    \n",
    "    def _backward(self, B):\n",
    "        T = B.shape[1]\n",
    "        beta = np.zeros(B.shape)\n",
    "        \n",
    "        beta[:,-1] = np.ones(B.shape[0])\n",
    "        \n",
    "        for t in range(T-1)[::-1]:\n",
    "            beta[:,t] = np.dot(self.A, (B[:,t+1]*beta[:,t+1]))\n",
    "            beta[:,t]/=np.sum(beta[:,t])\n",
    "        return beta\n",
    "    \n",
    "    def _state_likelihood(self,obs):\n",
    "        obs = np.atleast_2d(obs)\n",
    "        B = np.zeros((self.n_states, obs.shape[1]))\n",
    "        for s in range(self.n_states):\n",
    "            np.random.seed(self.random_state.randint(1))\n",
    "            B[s,:] = st.multivariate_normal.pdf(\n",
    "                obs.T, mean = self.mu[:,s].T, cov=self.covs[:,:,s].T)\n",
    "        return B\n",
    "    \n",
    "    def _normalize(self,x):\n",
    "        return (x+(x==0))/np.sum(x)\n",
    "    \n",
    "    def _stochasticize(self,x):\n",
    "        return (x+(x==0))/np.sum(x,axis=1)\n",
    "    \n",
    "    def _em_init(self, obs):\n",
    "        #Using this _em_init function allows for less required constructor args\n",
    "        if self.n_dims is None:\n",
    "            self.n_dims = obs.shape[0]\n",
    "        if self.mu is None:\n",
    "            subset = self.random_state.choice(np.arange(self.n_dims), size=self.n_states, replace=False)\n",
    "            self.mu = obs[:, subset]\n",
    "        if self.covs is None:\n",
    "            self.covs = np.zeros((self.n_dims, self.n_dims, self.n_states))\n",
    "            self.covs += np.diag(np.diag(np.cov(obs)))[:, :, None]\n",
    "        return self\n",
    "    \n",
    "    def _em_step(self, obs): \n",
    "        obs = np.atleast_2d(obs)\n",
    "        B = self._state_likelihood(obs)\n",
    "        T = obs.shape[1]\n",
    "        \n",
    "        log_likelihood, alpha = self._forward(B)\n",
    "        beta = self._backward(B)\n",
    "        \n",
    "        xi_sum = np.zeros((self.n_states, self.n_states))\n",
    "        gamma = np.zeros((self.n_states, T))\n",
    "        \n",
    "        for t in range(T - 1):\n",
    "            partial_sum = self.A * np.dot(alpha[:, t], (beta[:, t] * B[:, t + 1]).T)\n",
    "            xi_sum += self._normalize(partial_sum)\n",
    "            partial_g = alpha[:, t] * beta[:, t]\n",
    "            gamma[:, t] = self._normalize(partial_g)\n",
    "              \n",
    "        partial_g = alpha[:, -1] * beta[:, -1]\n",
    "        gamma[:, -1] = self._normalize(partial_g)\n",
    "        \n",
    "        expected_prior = gamma[:, 0]\n",
    "        expected_A = self._stochasticize(xi_sum)\n",
    "        \n",
    "        expected_mu = np.zeros((self.n_dims, self.n_states))\n",
    "        expected_covs = np.zeros((self.n_dims, self.n_dims, self.n_states))\n",
    "        \n",
    "        gamma_state_sum = np.sum(gamma, axis=1)\n",
    "        #Set zeros to 1 before dividing\n",
    "        gamma_state_sum = gamma_state_sum + (gamma_state_sum == 0)\n",
    "        \n",
    "        for s in range(self.n_states):\n",
    "            gamma_obs = obs * gamma[s, :]\n",
    "            expected_mu[:, s] = np.sum(gamma_obs, axis=1) / gamma_state_sum[s]\n",
    "            partial_covs = np.dot(gamma_obs, obs.T) / gamma_state_sum[s] - np.dot(expected_mu[:, s], expected_mu[:, s].T)\n",
    "            #Symmetrize\n",
    "            partial_covs = np.triu(partial_covs) + np.triu(partial_covs).T - np.diag(partial_covs)\n",
    "        \n",
    "        #Ensure positive semidefinite by adding diagonal loading\n",
    "        expected_covs += .01 * np.eye(self.n_dims)[:, :, None]\n",
    "        \n",
    "        self.prior = expected_prior\n",
    "        self.mu = expected_mu\n",
    "        self.covs = expected_covs\n",
    "        self.A = expected_A\n",
    "        return log_likelihood\n",
    "    \n",
    "    def fit(self, obs, n_iter=8):\n",
    "        #Support for 2D and 3D arrays\n",
    "        #2D should be n_features, n_dims\n",
    "        #3D should be n_examples, n_features, n_dims\n",
    "        #For example, with 6 features per speech segment, 105 different words\n",
    "        #this array should be size\n",
    "        #(105, 6, X) where X is the number of frames with features extracted\n",
    "        #For a single example file, the array should be size (6, X)\n",
    "        if len(obs.shape) == 2:\n",
    "            for i in range(n_iter):\n",
    "                self._em_init(obs)\n",
    "                log_likelihood = self._em_step(obs)\n",
    "        elif len(obs.shape) == 3:\n",
    "            count = obs.shape[0]\n",
    "            for n in range(count):\n",
    "                for i in range(n_iter):\n",
    "                    self._em_init(obs[n, :, :])\n",
    "                    log_likelihood = self._em_step(obs[n, :, :])\n",
    "        return self\n",
    "    \n",
    "    def transform(self, obs):\n",
    "        #Support for 2D and 3D arrays\n",
    "        #2D should be n_features, n_dims\n",
    "        #3D should be n_examples, n_features, n_dims\n",
    "        #For example, with 6 features per speech segment, 105 different words\n",
    "        #this array should be size\n",
    "        #(105, 6, X) where X is the number of frames with features extracted\n",
    "        #For a single example file, the array should be size (6, X)\n",
    "        if len(obs.shape) == 2:\n",
    "            B = self._state_likelihood(obs)\n",
    "            log_likelihood, _ = self._forward(B)\n",
    "            return log_likelihood\n",
    "        elif len(obs.shape) == 3:\n",
    "            count = obs.shape[0]\n",
    "            out = np.zeros((count,))\n",
    "            for n in range(count):\n",
    "                B = self._state_likelihood(obs[n, :, :])\n",
    "                log_likelihood, _ = self._forward(B)\n",
    "                out[n] = log_likelihood\n",
    "            return out\n",
    "\n",
    "if __name__ == \"__main__\":\n",
    "    rstate = np.random.RandomState(0)\n",
    "    t1 = np.ones((4, 40)) + .001 * rstate.rand(4, 40)\n",
    "    t1 /= t1.sum(axis=0)\n",
    "    t2 = rstate.rand(*t1.shape)\n",
    "    t2 /= t2.sum(axis=0)\n",
    "    \n",
    "    m1 = gmmhmm(2)\n",
    "    m1.fit(t1)\n",
    "    m2 = gmmhmm(2)\n",
    "    m2.fit(t2)\n",
    "    \n",
    "    m1t1 = m1.transform(t1)\n",
    "    m2t1 = m2.transform(t1)\n",
    "    print(\"Likelihoods for test set 1\")\n",
    "    print(\"M1:\", m1t1)\n",
    "    print(\"M2:\", m2t1)\n",
    "    print(\"Prediction for test set 1\")\n",
    "    print(\"Model\", np.argmax([m1t1, m2t1]) + 1)\n",
    "    print()\n",
    "    \n",
    "    m1t2 = m1.transform(t2)\n",
    "    m2t2 = m2.transform(t2)\n",
    "    print(\"Likelihoods for test set 2\")\n",
    "    print(\"M1:\", m1t2)\n",
    "    print(\"M2:\", m2t2)\n",
    "    print(\"Prediction for test set 2\")\n",
    "    print(\"Model\", np.argmax([m1t2, m2t2]) + 1)"
   ]
  },
  {
   "cell_type": "code",
   "execution_count": 12,
   "metadata": {
    "execution": {
     "iopub.execute_input": "2024-04-25T18:41:21.440093Z",
     "iopub.status.busy": "2024-04-25T18:41:21.439733Z",
     "iopub.status.idle": "2024-04-25T18:41:21.629678Z",
     "shell.execute_reply": "2024-04-25T18:41:21.628409Z",
     "shell.execute_reply.started": "2024-04-25T18:41:21.440054Z"
    }
   },
   "outputs": [
    {
     "name": "stdout",
     "output_type": "stream",
     "text": [
      "Size of training matrix: (202, 6, 216)\n",
      "Size of testing matrix: (23, 6, 216)\n"
     ]
    }
   ],
   "source": [
    "from sklearn.model_selection import train_test_split\n",
    "\n",
    "# Normalize the data\n",
    "for n, obs in enumerate(all_obs):\n",
    "    all_obs[n] /= obs.sum(axis=0)\n",
    "\n",
    "# Split the data into training and testing sets \n",
    "X_train, X_test, y_train, y_test = train_test_split(all_obs, all_labels, test_size=0.1, random_state=0, stratify=all_labels)\n",
    "\n",
    "print('Size of training matrix:', X_train.shape)\n",
    "print('Size of testing matrix:', X_test.shape)"
   ]
  },
  {
   "cell_type": "code",
   "execution_count": 13,
   "metadata": {
    "execution": {
     "iopub.execute_input": "2024-04-25T18:41:21.631671Z",
     "iopub.status.busy": "2024-04-25T18:41:21.630941Z",
     "iopub.status.idle": "2024-04-25T18:41:21.639575Z",
     "shell.execute_reply": "2024-04-25T18:41:21.638298Z",
     "shell.execute_reply.started": "2024-04-25T18:41:21.631631Z"
    }
   },
   "outputs": [
    {
     "data": {
      "text/plain": [
       "{0.0, 1.0, 2.0, 3.0, 4.0, 5.0, 6.0, 7.0, 8.0, 9.0, 10.0, 11.0, 12.0, 13.0}"
      ]
     },
     "execution_count": 13,
     "metadata": {},
     "output_type": "execute_result"
    }
   ],
   "source": [
    "set(all_labels)"
   ]
  },
  {
   "cell_type": "code",
   "execution_count": 14,
   "metadata": {
    "execution": {
     "iopub.execute_input": "2024-04-25T18:41:21.641603Z",
     "iopub.status.busy": "2024-04-25T18:41:21.641092Z",
     "iopub.status.idle": "2024-04-25T18:41:44.434817Z",
     "shell.execute_reply": "2024-04-25T18:41:44.433703Z",
     "shell.execute_reply.started": "2024-04-25T18:41:21.641563Z"
    }
   },
   "outputs": [
    {
     "name": "stdout",
     "output_type": "stream",
     "text": [
      "Test accuracy: 56.52 percent\n"
     ]
    }
   ],
   "source": [
    "ys = set(all_labels)\n",
    "ms = [gmmhmm(6) for y in ys] ##Gaussian HMM with six states\n",
    "_ = [m.fit(X_train[y_train == y, :, :]) for m, y in zip(ms, ys)]\n",
    "ps = [m.transform(X_test) for m in ms]\n",
    "res = np.vstack(ps)\n",
    "predicted_labels = np.argmax(res, axis=0)\n",
    "dictionary = ['orange', 'book', 'lime', 'pineapple', 'eye', 'apple', 'dog', 'kiwi', 'fast', 'cat', 'peach', 'banana', 'god', 'human']\n",
    "missed = (predicted_labels != y_test)\n",
    "print('Test accuracy: %.2f percent' % (100 * (1 - np.mean(missed))))"
   ]
  },
  {
   "cell_type": "code",
   "execution_count": 16,
   "metadata": {
    "execution": {
     "iopub.execute_input": "2024-04-25T18:42:23.221729Z",
     "iopub.status.busy": "2024-04-25T18:42:23.221367Z",
     "iopub.status.idle": "2024-04-25T18:42:23.255282Z",
     "shell.execute_reply": "2024-04-25T18:42:23.254134Z",
     "shell.execute_reply.started": "2024-04-25T18:42:23.221701Z"
    }
   },
   "outputs": [
    {
     "ename": "SyntaxError",
     "evalue": "Missing parentheses in call to 'print'. Did you mean print(...)? (2611584837.py, line 158)",
     "output_type": "error",
     "traceback": [
      "\u001b[0;36m  Cell \u001b[0;32mIn[16], line 158\u001b[0;36m\u001b[0m\n\u001b[0;31m    print word_spoken\u001b[0m\n\u001b[0m    ^\u001b[0m\n\u001b[0;31mSyntaxError\u001b[0m\u001b[0;31m:\u001b[0m Missing parentheses in call to 'print'. Did you mean print(...)?\n"
     ]
    }
   ],
   "source": [
    "##Accesibility\n",
    "##Tried classifying live recorded sample :)\n",
    "\n",
    "import numpy as np\n",
    "from sys import byteorder\n",
    "from array import array\n",
    "from struct import pack\n",
    "\n",
    "import pyaudio\n",
    "import wave\n",
    "import time\n",
    "%matplotlib inline\n",
    "THRESHOLD = 32000\n",
    "CHUNK_SIZE = 64\n",
    "FORMAT = pyaudio.paInt16\n",
    "RATE = 8000\n",
    "\n",
    "def is_silent(snd_data):\n",
    "    \"Returns 'True' if below the 'silent' threshold\"\n",
    "    return max(snd_data) < THRESHOLD\n",
    "\n",
    "def normalize(snd_data):\n",
    "    \"Average the volume out\"\n",
    "    MAXIMUM = 16384\n",
    "    times = float(MAXIMUM)/max(abs(i) for i in snd_data)\n",
    "\n",
    "    r = array('h')\n",
    "    for i in snd_data:\n",
    "        r.append(int(i*times))\n",
    "    return r\n",
    "\n",
    "def trim(snd_data):\n",
    "    \"Trim the blank spots at the start and end\"\n",
    "    def _trim(snd_data):\n",
    "        snd_started = False\n",
    "        r = array('h')\n",
    "\n",
    "        for i in snd_data:\n",
    "            if not snd_started and abs(i)>THRESHOLD:\n",
    "                snd_started = True\n",
    "                r.append(i)\n",
    "\n",
    "            elif snd_started:\n",
    "                r.append(i)\n",
    "        return r\n",
    "\n",
    "    # Trim to the left\n",
    "    snd_data = _trim(snd_data)\n",
    "\n",
    "    # Trim to the right\n",
    "    snd_data.reverse()\n",
    "    snd_data = _trim(snd_data)\n",
    "    snd_data.reverse()\n",
    "    return snd_data\n",
    "\n",
    "def add_silence(snd_data, seconds):\n",
    "    \"Add silence to the start and end of 'snd_data' of length 'seconds' (float)\"\n",
    "    r = array('h', [0 for i in xrange(int(seconds*RATE))])\n",
    "    r.extend(snd_data)\n",
    "    r.extend([0 for i in xrange(int(seconds*RATE))])\n",
    "    return r\n",
    "\n",
    "def record():\n",
    "    \"\"\"\n",
    "    Record a word or words from the microphone and \n",
    "    return the data as an array of signed shorts.\n",
    "\n",
    "    Normalizes the audio, trims silence from the \n",
    "    start and end, and pads with 0.5 seconds of \n",
    "    blank sound to make sure VLC et al can play \n",
    "    it without getting chopped off.\n",
    "    \"\"\"\n",
    "    p = pyaudio.PyAudio()\n",
    "    stream = p.open(format=FORMAT, channels=1, rate=RATE,\n",
    "        input=True, output=True,\n",
    "        frames_per_buffer=CHUNK_SIZE)\n",
    "\n",
    "    num_silent = 0\n",
    "    snd_started = False\n",
    "\n",
    "    r = array('h')\n",
    "\n",
    "    while 1:\n",
    "        # little endian, signed short\n",
    "        snd_data = array('h', stream.read(CHUNK_SIZE))\n",
    "        if byteorder == 'big':\n",
    "            snd_data.byteswap()\n",
    "        r.extend(snd_data)\n",
    "\n",
    "        silent = is_silent(snd_data)\n",
    "\n",
    "        if silent and snd_started:\n",
    "            num_silent += 1\n",
    "        elif not silent and not snd_started:\n",
    "            snd_started = True\n",
    "\n",
    "        if snd_started and num_silent > 30:\n",
    "            break\n",
    "\n",
    "    sample_width = p.get_sample_size(FORMAT)\n",
    "    stream.stop_stream()\n",
    "    stream.close()\n",
    "    p.terminate()\n",
    "\n",
    "    r = normalize(r)\n",
    "    r = trim(r)\n",
    "    r = add_silence(r, 0.01)\n",
    "    return sample_width, r\n",
    "\n",
    "def record_to_file(path):\n",
    "    \"Records from the microphone and outputs the resulting data to 'path'\"\n",
    "    sample_width, data = record()\n",
    "    data = pack('<' + ('h'*len(data)), *data)\n",
    "\n",
    "    wf = wave.open(path, 'wb')\n",
    "    wf.setnchannels(1)\n",
    "    wf.setsampwidth(sample_width)\n",
    "    wf.setframerate(RATE)\n",
    "    wf.writeframes(data)\n",
    "    wf.close()\n",
    "\n",
    "if __name__ == '__main__':\n",
    "    #print(\"start\")\n",
    "    \n",
    "    s=['orange', 'book', 'lime', 'pineapple', 'eye', 'apple', 'dog', 'kiwi', 'fast', 'cat', 'peach', 'banana', 'god', 'human']\n",
    "    for i,name in enumerate(s):\n",
    "        pathstart= \"/home/ashutosh/Downloads/hmm-speech-recognition-0.1/hmm-speech-recognition-0.1/Audio/\" + name\n",
    "        for i in range(15):\n",
    "            print(\"Please speak a word into the microphone for \" + name)\n",
    "            record_to_file(pathstart+\"/\"+ name + str(i))\n",
    "            time.sleep(0.5)\n",
    "        time.sleep(5)\n",
    "        print(\"Done\")\n",
    "    print(\"Please speak a word into the microphone for \")\n",
    "    record_to_file('/home/ashutosh/Downloads/Speech_Recognition/Audio/testaudio.wav')\n",
    "    print(\"Done\")\n",
    "\n",
    "new_data = np.zeros(5000)\n",
    "maxsize = 3841\n",
    "_, new_d = wavfile.read(\"/home/ashutosh/Downloads/Speech_Recognition/test\")\n",
    "new_data[:new_d.shape[0]] = new_d\n",
    "new_data = new_data[:maxsize]\n",
    "\n",
    "observation = []\n",
    "\n",
    "new_d = np.abs(stft(new_data))\n",
    "n_dim = 6\n",
    "new_obs = np.zeros((n_dim, new_d.shape[0]))\n",
    "for r in range(new_d.shape[0]):\n",
    "    _, t = peakfind(new_d[r, :], n_peaks=n_dim)\n",
    "    new_obs[:, r] = t.copy()\n",
    "observation.append(new_obs)\n",
    "    \n",
    "observation = np.atleast_3d(observation)\n",
    "observation /= observation.sum(axis=1)\n",
    "\n",
    "ps_test = [m.transform(observation) for m in ms]\n",
    "res_test = np.vstack(ps_test)\n",
    "test_predicted_label = np.argmax(res_test, axis=0)\n",
    "word_spoken = dictionary[test_predicted_label]\n",
    "print word_spoken"
   ]
  },
  {
   "cell_type": "code",
   "execution_count": null,
   "metadata": {},
   "outputs": [],
   "source": []
  }
 ],
 "metadata": {
  "kaggle": {
   "accelerator": "none",
   "dataSources": [
    {
     "datasetId": 4880576,
     "sourceId": 8230062,
     "sourceType": "datasetVersion"
    }
   ],
   "dockerImageVersionId": 30698,
   "isGpuEnabled": false,
   "isInternetEnabled": true,
   "language": "python",
   "sourceType": "notebook"
  },
  "kernelspec": {
   "display_name": "Python 3 (ipykernel)",
   "language": "python",
   "name": "python3"
  },
  "language_info": {
   "codemirror_mode": {
    "name": "ipython",
    "version": 3
   },
   "file_extension": ".py",
   "mimetype": "text/x-python",
   "name": "python",
   "nbconvert_exporter": "python",
   "pygments_lexer": "ipython3",
   "version": "3.9.13"
  }
 },
 "nbformat": 4,
 "nbformat_minor": 4
}
